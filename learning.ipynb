{
 "cells": [
  {
   "cell_type": "markdown",
   "id": "0302d8e1-f57a-40e5-abe1-47e48ea61517",
   "metadata": {},
   "source": [
    "چگونه یک ربات معامله گر طراحی کنیم؟"
   ]
  },
  {
   "cell_type": "code",
   "execution_count": null,
   "id": "67ffebde-855a-4ce9-9c3f-73f2f52286a9",
   "metadata": {},
   "outputs": [],
   "source": [
    "من از ماژولی که خود متاتریدر در اختیار توسعه دهندگان پایتون قرار داده استفاده میکنم.\n",
    "برای اینکه بتونیم از این ماژول استفاده کنیم نیاز هست مقدمات پایتون و مباحث اپتدایی نامپای و پانداس رو بلد باشیم\n",
    "در انتها من من یک کِلَس قرار میدم که بتونیم راحت تر و تمیز ربات طراحی کنیم و کد بزنیم\n",
    "\n",
    "\n",
    "https://www.mql5.com/fr/docs/python_metatrader5"
   ]
  },
  {
   "cell_type": "code",
   "execution_count": null,
   "id": "4a651b42-9e5b-40c8-9897-16e003bd860c",
   "metadata": {},
   "outputs": [],
   "source": [
    "اموزش نحوه ی اتصال به متاتریدر  و استخراج اطلاعات اکانت و حساب:"
   ]
  },
  {
   "cell_type": "code",
   "execution_count": null,
   "id": "894356bb-b050-4e2f-a0ee-da437a4d16d6",
   "metadata": {},
   "outputs": [],
   "source": [
    "import MetaTrader5 as mt5\n",
    "\n",
    "mt5.initialize()\n",
    "\n",
    "\n",
    "\n",
    "\n",
    "وقتی این تابع رو فراخوانی میکنیم نیاز هست که  یوزر پسورد و اطلاعات سرور بروکر رو وارد کنیم\n",
    "مثلا:\n",
    "\n",
    "mt5.initialize(login= 4694891561, server=\"broker\" ,password=\"2648948c4c8sdf\")\n",
    "\n",
    "\n",
    "\n",
    "همونطور که گفتم، ازونجایی که ما قراره یک ربات طراحی کنیم و صرف یکبار متصل شدن کارا نیست، من یک کلاس درست میکنم و از طریق اون کلاس به اطلاعات حساب دسترسی پیدا میکنم \n",
    "و اینطوری برای هربار متصل شدن نیازی به "
   ]
  }
 ],
 "metadata": {
  "kernelspec": {
   "display_name": "Python 3 (ipykernel)",
   "language": "python",
   "name": "python3"
  },
  "language_info": {
   "codemirror_mode": {
    "name": "ipython",
    "version": 3
   },
   "file_extension": ".py",
   "mimetype": "text/x-python",
   "name": "python",
   "nbconvert_exporter": "python",
   "pygments_lexer": "ipython3",
   "version": "3.12.0"
  }
 },
 "nbformat": 4,
 "nbformat_minor": 5
}
